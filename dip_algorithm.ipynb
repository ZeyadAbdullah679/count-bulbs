{
 "cells": [
  {
   "cell_type": "code",
   "execution_count": 1,
   "metadata": {},
   "outputs": [],
   "source": [
    "import cv2\n",
    "import numpy as np\n",
    "\n",
    "def label_connected_components(binary_image):\n",
    "    height, width = binary_image.shape\n",
    "    labels = np.zeros((height, width), dtype=np.int32)\n",
    "    current_label = 1\n",
    "    equivalences = {}\n",
    "\n",
    "    def find_root(label):\n",
    "        root = label\n",
    "        while root in equivalences:\n",
    "            root = equivalences[root]\n",
    "        return root\n",
    "\n",
    "    component_count = 0\n",
    "\n",
    "    for y in range(height):\n",
    "        for x in range(width):\n",
    "            if binary_image[y, x] == 1:\n",
    "                neighbors = [0, 0, 0, 0]\n",
    "\n",
    "                if x > 0:\n",
    "                    neighbors[0] = labels[y, x - 1]\n",
    "                if y > 0:\n",
    "                    neighbors[1] = labels[y - 1, x]\n",
    "                if x > 0 and y > 0:\n",
    "                    neighbors[2] = labels[y - 1, x - 1]\n",
    "                if x < width - 1 and y > 0:\n",
    "                    neighbors[3] = labels[y - 1, x + 1]\n",
    "\n",
    "                neighbor_labels = [label for label in neighbors if label != 0]\n",
    "\n",
    "                if not neighbor_labels:\n",
    "                    labels[y, x] = current_label\n",
    "                    component_count += 1\n",
    "                    current_label += 1\n",
    "                else:\n",
    "                    min_label = min(neighbor_labels)\n",
    "                    labels[y, x] = min_label\n",
    "\n",
    "                    for label in neighbor_labels:\n",
    "                        if label != min_label:\n",
    "                            equivalences[label] = min_label\n",
    "\n",
    "    return labels, component_count"
   ]
  },
  {
   "cell_type": "code",
   "execution_count": 2,
   "metadata": {},
   "outputs": [
    {
     "name": "stdout",
     "output_type": "stream",
     "text": [
      "Blob Count is: 175\n"
     ]
    }
   ],
   "source": [
    "# Usage Example:\n",
    "binary_image = cv2.imread('sample.jpeg', cv2.IMREAD_GRAYSCALE)\n",
    "binary_image[binary_image < 128] = 0\n",
    "binary_image[binary_image >= 128] = 1\n",
    "\n",
    "connected_components, blob_count = label_connected_components(binary_image)\n",
    "\n",
    "# Make Fancy Color #\n",
    "colors = np.random.randint(0, 255, size=(blob_count, 3), dtype=np.uint8)\n",
    "colored_image = np.zeros((binary_image.shape[0], binary_image.shape[1], 3), dtype=np.uint8)\n",
    "\n",
    "for label in range(1, blob_count + 1):\n",
    "    mask = connected_components == label\n",
    "    colored_image[mask] = colors[label - 1]\n",
    "####################\n",
    "\n",
    "print(f\"Blob Count is: {blob_count}\")\n",
    "\n",
    "cv2.imshow('Colored Connected Components', colored_image)\n",
    "\n",
    "cv2.waitKey(0)\n",
    "cv2.destroyAllWindows()"
   ]
  }
 ],
 "metadata": {
  "kernelspec": {
   "display_name": "Python 3",
   "language": "python",
   "name": "python3"
  },
  "language_info": {
   "codemirror_mode": {
    "name": "ipython",
    "version": 3
   },
   "file_extension": ".py",
   "mimetype": "text/x-python",
   "name": "python",
   "nbconvert_exporter": "python",
   "pygments_lexer": "ipython3",
   "version": "3.11.3"
  }
 },
 "nbformat": 4,
 "nbformat_minor": 2
}
